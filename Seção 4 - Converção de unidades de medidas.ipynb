{
 "cells": [
  {
   "cell_type": "markdown",
   "metadata": {},
   "source": [
    "# Seção 4"
   ]
  },
  {
   "cell_type": "code",
   "execution_count": null,
   "metadata": {},
   "outputs": [
    {
     "name": "stdin",
     "output_type": "stream",
     "text": [
      "Digite a temperatura em graus Celcius:  66\n"
     ]
    },
    {
     "name": "stdout",
     "output_type": "stream",
     "text": [
      "150.8\n"
     ]
    }
   ],
   "source": [
    "##Converte celcius para fahrenheit\n",
    "c = float(input(\"Digite a temperatura em graus Celcius: \"))\n",
    "\n",
    "f = c*1.8 + 32\n",
    "print(f)\n",
    "\n",
    "# Converte Fahrenheit para Celcius\n",
    "fa = float(input(\"digite em graus Fahrenheit agora: \"))\n",
    "\n",
    "ce = round(0.5556*(fa - 32),2)\n",
    "\n",
    "print(ce)"
   ]
  },
  {
   "cell_type": "code",
   "execution_count": null,
   "metadata": {},
   "outputs": [],
   "source": [
    "# Converte Kelvin para Celcius\n",
    "k = float(input(\"digite temperatura em graus Kelvin: \"))\n",
    "\n",
    "print(f\" A em celcius é: {round(k-273.15,2)}\")\n",
    "\n",
    "# Converte Celcius para Kelvin\n",
    "a = float(input(\"digite temperatura em graus celcius: \"))\n",
    "print(a+273.15)"
   ]
  },
  {
   "cell_type": "code",
   "execution_count": null,
   "metadata": {},
   "outputs": [],
   "source": [
    "# Converte km/k em m/s\n",
    "km = int(input(\"KM/H: \"))\n",
    "\n",
    "print(\"ms :\", round(km/3.6,4))\n",
    "\n",
    "# Converte m/s em km/h\n",
    "ms = float(input(\"MS/S: \"))\n",
    "print(ms*3.6)"
   ]
  },
  {
   "cell_type": "code",
   "execution_count": null,
   "metadata": {},
   "outputs": [],
   "source": [
    "# Converter milhas pra km/h\n",
    "kms = int(input(\"Milhas: \"))\n",
    "\n",
    "print(\"km/h: \", round(kms*1.609,2))\n",
    "\n",
    "# Converter km/h para milhas\n",
    "\n",
    "milhas = int(input(\"km/h:\"))\n",
    "\n",
    "print(\"Milhas: \", round(milhas/1.609,2))"
   ]
  },
  {
   "cell_type": "code",
   "execution_count": null,
   "metadata": {},
   "outputs": [],
   "source": [
    "# Converter ângulo em graus pra radiano\n",
    "r = 3.1415\n",
    "graus = float(input(\"Ângulo em graus: \"))\n",
    "\n",
    "print(\"Ângulo em radianos: \", round(graus*r/180,5))\n",
    "\n",
    "# Converter ângulo radiano em graus\n",
    "\n",
    "radiano = float(input(\"ângulo em radianos: \"))\n",
    "\n",
    "print(\"Ângulo em graus: \", round(radiano*180/r,4))"
   ]
  },
  {
   "cell_type": "code",
   "execution_count": null,
   "metadata": {},
   "outputs": [],
   "source": [
    "# Converter comprimeiro de polegada pra centímetros\n",
    "polegadas = float(input(\"Comprimento em polegadas: \"))\n",
    "\n",
    "print(\"Centímetros: \", polegadas*2.54)\n",
    "\n",
    "# Converter comprimeiro de centímetros para polegadas\n",
    "centimetros = float(input(\"Comprimento em centímetros: \"))\n",
    "\n",
    "print(\"Polegadas: \", centimetros/2.54)"
   ]
  },
  {
   "cell_type": "code",
   "execution_count": null,
   "metadata": {},
   "outputs": [],
   "source": [
    "# Converter volume metros cúbicos m³ em litros\n",
    "mtsc = float(input(\"Volume em metros cúbicos: \"))\n",
    "\n",
    "print(\"Litros: \", mtsc*1000)\n",
    "\n",
    "# Converter litros para metros cúbicos m³\n",
    "\n",
    "litros = float(input(\"Volume em litros: \"))\n",
    "               \n",
    "print(\"Volume em metros cúbicos: \", litros/1000)"
   ]
  },
  {
   "cell_type": "code",
   "execution_count": null,
   "metadata": {},
   "outputs": [],
   "source": [
    "# Converter massa em quilogramas em libras\n",
    "kilos = float(input(\"Volume de massa em quilogramas: \"))\n",
    "\n",
    "print(\"Libras: \", round(kilos/0.454,2))\n",
    "\n",
    "# Converter massa em libras para quilogramsa\n",
    "libras = float(input(\"Volume de massa em libras: \"))\n",
    "\n",
    "print(\"Kg: \", round(libras*0.454,2))"
   ]
  },
  {
   "cell_type": "code",
   "execution_count": null,
   "metadata": {},
   "outputs": [],
   "source": [
    "# Converter comprimento em jardas para metros\n",
    "jardas = float(input(\"Comprimento em jardas:\"))\n",
    "\n",
    "print(\"Metros:\", round(jardas*0.914,2))\n",
    "\n",
    "# Converter comprimento em metros para jardas\n",
    "metros = float(input(\"Comprimento em metros:\"))\n",
    "\n",
    "print(\"Jardas:\", round(metros/0.914,2))"
   ]
  },
  {
   "cell_type": "code",
   "execution_count": null,
   "metadata": {},
   "outputs": [],
   "source": [
    "# Converter valor de area em metros quadrados m² para acres\n",
    "m2 = float(input(\"Area em metros quadrados m²:\"))\n",
    "\n",
    "print(\"Area em Acres:\", m2*0.000247)\n",
    "\n",
    "# Converter Acres para metros quadrados m²\n",
    "acres = float(input(\"Area em Acres:\"))\n",
    "\n",
    "print(\"Acrea em metros quadrados m²:\", acres*4048.58)"
   ]
  },
  {
   "cell_type": "code",
   "execution_count": null,
   "metadata": {},
   "outputs": [],
   "source": [
    "# Converter metros quadrados para hectares\n",
    "m2 = float(input(\"Area em metros quadrados: \"))\n",
    "\n",
    "print(\"Area em Hectares: \", m2*0.0001)\n",
    "\n",
    "# Converter Hectares para metros quadrados m²\n",
    "hectares = float(input(\"Area em hectares:\"))\n",
    "\n",
    "print(\"Area em metros quadrados: \", hectares*10000)"
   ]
  },
  {
   "cell_type": "code",
   "execution_count": null,
   "metadata": {},
   "outputs": [],
   "source": [
    "# Ex 28 - Faça a leitura de três valores e apresente como resultado a soma dos quadrados dos três valores lidos\n",
    "\n",
    "n1 = int(input(\"1º número: \"))\n",
    "n2 = int(input(\"2º número: \"))\n",
    "n3 = int(input(\"3º número: \"))\n",
    "\n",
    "total = (n1**2)+(n2**2)+(n3**2)\n",
    "\n",
    "print(\"A soma dos quadrados dos três valores é : \", total)"
   ]
  },
  {
   "cell_type": "code",
   "execution_count": null,
   "metadata": {},
   "outputs": [],
   "source": [
    "# Ex 29 - Ler quatro notas, calcule a média aritmética e imprima o resultado\n",
    "\n",
    "n1 = float(input(\"1º nota: \"))\n",
    "n2 = float(input(\"2º nota: \"))\n",
    "n3 = float(input(\"3º nota: \"))\n",
    "n4 = float(input(\"4º nota: \"))\n",
    "\n",
    "media = (n1+n2+n3+n4)/4\n",
    "\n",
    "print(\"Média: \", media)"
   ]
  },
  {
   "cell_type": "code",
   "execution_count": null,
   "metadata": {},
   "outputs": [],
   "source": [
    "# Ex 30 - Leia um valor em real e a cotação em dólar. Em seguida imprima o valor correspondente em dólares\n",
    "\n",
    "real = float(input(\"Valor em R$: \"))\n",
    "cotacao = float(input(\"Cotação do dolar $: \"))\n",
    "\n",
    "print(\"Valor em dolares: \", round(real*((100/cotacao)/100),2))\n",
    "\n"
   ]
  },
  {
   "cell_type": "code",
   "execution_count": null,
   "metadata": {},
   "outputs": [],
   "source": [
    "# Ex 31 - Leia um número inteiro e imprima o seu antecessor e o seu sucessor\n",
    "\n",
    "n = int(input(\"Digite um número: \"))\n",
    "\n",
    "print(n+1)\n",
    "print(n)\n",
    "print(n-1)"
   ]
  },
  {
   "cell_type": "code",
   "execution_count": null,
   "metadata": {},
   "outputs": [],
   "source": [
    "# Ex 32 - Leia um número inteiro e imprima a soma do sucessor de seu triplo com o antecessor de seu dobro\n",
    "n = int(input(\"Digite um número: \"))\n",
    "\n",
    "print(((n-1)*2)+(n+1)*3)\n"
   ]
  },
  {
   "cell_type": "code",
   "execution_count": null,
   "metadata": {},
   "outputs": [],
   "source": [
    "# Ex 33 - Leia o tamanho do lado de um quadrado e imprima como resultado a sua área\n",
    "\n",
    "quadrado = float(input(\"Um dos lados de um quadrado\"))\n",
    "\n",
    "area = quadrado*quadrado\n",
    "print(f\"Área: {area} m²\")"
   ]
  },
  {
   "cell_type": "code",
   "execution_count": null,
   "metadata": {},
   "outputs": [],
   "source": [
    "# Ex 34 - Leia o valor do raio de um círculo e calcule e imprima a área do círculo correspondente.\n",
    "r = 3.141592\n",
    "\n",
    "raio = float(input(\"Valor do raio :\"))\n",
    "\n",
    "AreaCirculo = round(r*raio**2,2)\n",
    "\n",
    "print(AreaCirculo)"
   ]
  },
  {
   "cell_type": "code",
   "execution_count": null,
   "metadata": {},
   "outputs": [],
   "source": [
    "import math\n",
    "'''Ex 35 - Faça um programa que receba os valores de A e B e calcule o valor da hipotenusa através da equação. \n",
    "Imprima o resultado dessa operação'''\n",
    "\n",
    "catetoB = float(input(\"Cateto b: \"))\n",
    "catetoC = float(input(\"Cateto c: \"))\n",
    "\n",
    "hipotenusa = math.sqrt((catetoB**2)+(catetoC**2))\n",
    "\n",
    "print(\"Hipotenusa: \", hipotenusa)\n"
   ]
  },
  {
   "cell_type": "code",
   "execution_count": null,
   "metadata": {},
   "outputs": [],
   "source": [
    "# Ex 36 - Leia a altura e o raio de um cilindro circular e imprima o volume do cilindro.\n",
    "r = 3.141592\n",
    "\n",
    "altura = float(input(\"Altura do cilindro: \"))\n",
    "raio = float(input(\"Raio do cilindro: \"))\n",
    "\n",
    "volume = r*((raio**2)*altura)\n",
    "\n",
    "print(\"Volume do cilindro: \", volume)"
   ]
  },
  {
   "cell_type": "code",
   "execution_count": null,
   "metadata": {},
   "outputs": [],
   "source": [
    "# Ex 37 - Faça um programa que leia o valor de um produto e imprima o valor com desconto de 12%.\n",
    "desconto = 0.12\n",
    "\n",
    "ValorProduto = float(input(\"Valor do produto: \"))\n",
    "\n",
    "print(\"Valor com desconto: \", ValorProduto-(ValorProduto*desconto))"
   ]
  },
  {
   "cell_type": "code",
   "execution_count": null,
   "metadata": {},
   "outputs": [],
   "source": [
    "''' Ex 38 - Leia o salário de um funcionário. Calcule e imprima o valor do novo salário, sabendo que ele recebeu um\n",
    "aumento de 25%'''\n",
    "aumento = 0.25\n",
    "\n",
    "salario = float(input(\"Salário: \"))\n",
    "\n",
    "print(\"Salário com aumento de 25%: \", salario+(salario*0.25))"
   ]
  },
  {
   "cell_type": "code",
   "execution_count": null,
   "metadata": {
    "scrolled": true
   },
   "outputs": [],
   "source": [
    "'''Ex 39 - A importância de R$ 780.000,00 será dividida entre três ganhadores de um concurso:\n",
    "- O primeiro ganhador receberá 46%;\n",
    "- O segundo receberá 32%;\n",
    "- O terceiro receberá o restante;\n",
    "Calcule e imprima a quantia ganha por cada um dos ganhadores'''\n",
    "\n",
    "importancia = 780000\n",
    "\n",
    "print(\"1º ganhador: \", importancia*0.46)\n",
    "print(\"2º ganhador: \", importancia*0.32)\n",
    "print(\"3º ganhador: \", importancia*0.22)"
   ]
  },
  {
   "cell_type": "code",
   "execution_count": null,
   "metadata": {},
   "outputs": [],
   "source": [
    "'''Ex - 40 Uma empresa contrata um encanador a R$ 30,00 por dia. Faça um programa que solicite o número de dias trabalhados pelo\n",
    "encanador e imprima a quantia líquida que deverá ser paga, sabendo-se que são descontados 8% para imposto de renda.'''\n",
    "IR = 0.08\n",
    "contrato = 30\n",
    "\n",
    "dias = int(input(\"Número de dias trabalhados: \"))\n",
    "\n",
    "print(\"Você deve pagar para o encanador R$ \", ((dias*contrato)*(1-0.08)))\n",
    "print(\"Desconto IR: \",dias*contrato*0.08)"
   ]
  },
  {
   "cell_type": "code",
   "execution_count": null,
   "metadata": {},
   "outputs": [],
   "source": [
    "'''Ex 41 - Faça um programa que leia o valor da hora de trabalho e número de horas trabalhadas no mês. Imprima o valor\n",
    "a ser pago ao funcionário, adicionando 10% sobre o valor calculado.'''\n",
    "adicional = 0.10\n",
    "ValorDaHora = float(input(\"Valor da hora de trabalho: \"))\n",
    "HorasTrabalhadas = int(input(\"Horas trabalhadas no mês: \"))\n",
    "\n",
    "print(\"Valor a ser pago ao funcionário: \", ValorDaHora*HorasTrabalhadas*1.10)"
   ]
  },
  {
   "cell_type": "code",
   "execution_count": null,
   "metadata": {},
   "outputs": [],
   "source": [
    "'''Ex 42 - Receba o salário-base de um funcionário. Calcule e imprima o salário a receber, sabendo-se que esse funcionário\n",
    "tem uma gratificação de 5% sobre o salário base. Além disso, ele paga 7% de imposto sobre o salário-base.'''\n",
    "gratificacao = 1 + 0.05\n",
    "imposto = 1 - 0.07\n",
    "\n",
    "SalarioBase = float(input(\"Salário Base: \"))\n",
    "\n",
    "print(\"Salário a receber: \", round(SalarioBase*gratificacao*imposto,2))"
   ]
  },
  {
   "cell_type": "code",
   "execution_count": null,
   "metadata": {},
   "outputs": [],
   "source": [
    "'''Ex 43 - Escreva um programa de ajuda para vendedores. A partir de um valor total lido, mostre:\n",
    "- o total a pagar com desconto de 10%;\n",
    "- o valor de cada parcela, no parcelamento de 3x sem juros;\n",
    "- a comissão do vendedor, no caso da venda ser à vista(5% sobre o valor com desconto);\n",
    "- a comissão do vendedor, no caso da venda ser parcelada(5% sobre o valor total)'''\n",
    "\n",
    "valor = float(input(\"Valor: \"))\n",
    "\n",
    "print(\"Pagamento à vista: \", valor*(1-0.1))\n",
    "print(\"Valor da parcela em 3x sem juros: \", round(valor/3,2))\n",
    "print(\"Comissão se venda for à vista: \", round((valor*(1-0.1))*0.05,2))\n",
    "print(\"Comissão se venda parcelada: \", valor*0.05)"
   ]
  },
  {
   "cell_type": "code",
   "execution_count": null,
   "metadata": {},
   "outputs": [],
   "source": [
    "'''Ex 44 - Receba a altura do degrau de uma escada e a altura que o usuário deseja alcançar subindo a escada. Calcule\n",
    "e mostre quantos degraus o usuário deverá subir para atingir seu objetivo'''\n",
    "\n",
    "AlturaDegrau = float(input(\"Altura do degrau da escada: (cm) \"))\n",
    "AlcancarAltura = float(input(\"Altura que deseja alcançar: (m)\"))\n",
    "\n",
    "degraus = AlcancarAltura*100/AlturaDegrau\n",
    "print(f\"Para alcançar seu objetivo, você deve subir {degraus} degraus\")"
   ]
  },
  {
   "cell_type": "code",
   "execution_count": null,
   "metadata": {},
   "outputs": [],
   "source": [
    "# Ex 45 * Faça um programa para converter uma letra maiúscula em letra minpuscula. Use a tabema ASCII\n",
    "\n",
    "a = input(\"\")\n",
    "\n",
    "a.upper()"
   ]
  },
  {
   "cell_type": "code",
   "execution_count": 1,
   "metadata": {},
   "outputs": [
    {
     "name": "stdout",
     "output_type": "stream",
     "text": [
      "digite número de 100 à 999: 156\n",
      "6 5 1\n",
      "1 5 6\n"
     ]
    }
   ],
   "source": [
    "# Ex 46 - Faça um programa que leia um número inteiro positivo de três dígitos (100 a 999) e imprima o valor invertido\n",
    "\n",
    "n = int(input(\"digite número de 100 à 999: \"))\n",
    "\n",
    "inverso = n % 10\n",
    "n = n//10\n",
    "a = inverso\n",
    "#print(inverso)\n",
    "inverso = n % 10\n",
    "n = n //10\n",
    "b = inverso\n",
    "#print(inverso)\n",
    "inverso = n % 10\n",
    "c = inverso\n",
    "#print(inverso)\n",
    "print(a,b,c)"
   ]
  },
  {
   "cell_type": "code",
   "execution_count": null,
   "metadata": {},
   "outputs": [],
   "source": [
    "# Ex 47 - Leia um número inteiro de 4 digitos (1000 a 9999) e imprima 1 digito por linha\n",
    "\n",
    "num = int(input(\"Digite número de 1000 a 9999:\"))\n",
    "\n",
    "num1 = str(num)\n",
    "\n",
    "\n",
    "\n",
    "print(f\"{num1[0]}\")\n",
    "print(f\"{num1[1]}\")\n",
    "print(f\"{num1[2]}\")\n",
    "print(f\"{num1[3]}\")"
   ]
  },
  {
   "cell_type": "code",
   "execution_count": 1,
   "metadata": {},
   "outputs": [
    {
     "name": "stdout",
     "output_type": "stream",
     "text": [
      "Digite tempo em segundos: 20000\n",
      "Horas:  5\n",
      "minutos:  333\n",
      "Segundos:  20000\n"
     ]
    }
   ],
   "source": [
    "# Ex 48 - Leia um valor inteiro em segundos e, imprama-o em horas, minutos e segundos.\n",
    "\n",
    "tempo = int(input(\"Digite tempo em segundos: \"))\n",
    "minutos = tempo//60\n",
    "horas = tempo//3600\n",
    "segundos = tempo\n",
    "print(\"Horas: \", horas)\n",
    "print(\"minutos: \", minutos)\n",
    "print(\"Segundos: \", segundos)\n"
   ]
  },
  {
   "cell_type": "code",
   "execution_count": 3,
   "metadata": {},
   "outputs": [
    {
     "name": "stdout",
     "output_type": "stream",
     "text": [
      "hora inicio:\n",
      "Horas:10\n",
      "minutos:20\n",
      "segundos:30\n",
      "37230\n",
      "Tempo:5000\n",
      "Horário de término: 11 : 43 : 50\n"
     ]
    }
   ],
   "source": [
    "''' Ex 49 - Faça um programa para ler o horário (h.m,s) de início e a duração em segundos de uma experiência biológica\n",
    "O programa deve resultar com o novo horário(h,m,s) do término da experiência.'''\n",
    "\n",
    "print(\"hora inicio:\")\n",
    "h = int(input(\"Horas:\"))\n",
    "m = int(input(\"minutos:\"))\n",
    "s = int(input(\"segundos:\"))\n",
    "\n",
    "tempo1 = (h*3600)+(m*60)+s\n",
    "\n",
    "print(tempo1)\n",
    "\n",
    "tempo2 = int(input(\"Tempo:\"))\n",
    "\n",
    "tempo3 = tempo1 + tempo2\n",
    "\n",
    "horas = tempo3//3600\n",
    "minutos = (tempo3//60)%60\n",
    "segundos = tempo3%60\n",
    "\n",
    "print(\"Horário de término:\",horas,\":\",minutos,\":\",segundos)\n",
    "\n",
    "\n"
   ]
  },
  {
   "cell_type": "code",
   "execution_count": 9,
   "metadata": {},
   "outputs": [
    {
     "name": "stdout",
     "output_type": "stream",
     "text": [
      "Ano atual:2020\n",
      "Sua idade:24\n",
      "Ano de nascimento:  1996\n"
     ]
    }
   ],
   "source": [
    "# Ex 50 - Implemente um programa que calcule o ano de nascimento de uma pessoa a partir da sua idade e do ano atual.\n",
    "AnoAtual = int(input(\"Ano atual:\"))\n",
    "idade = int(input(\"Sua idade:\"))\n",
    "              \n",
    "nascimento = AnoAtual - idade\n",
    "              \n",
    "print(\"Ano de nascimento: \",nascimento)"
   ]
  },
  {
   "cell_type": "code",
   "execution_count": 34,
   "metadata": {},
   "outputs": [
    {
     "name": "stdout",
     "output_type": "stream",
     "text": [
      "Ponto xA:-3\n",
      "Ponto xB:2\n",
      "Ponto yA:-11\n",
      "Ponto yB:1\n",
      "13.0\n"
     ]
    }
   ],
   "source": [
    "# Ex 51 - Escreva um programam que leia as coordenadas x e y de pontos no R² e calcule sua distancia da origem (0,0).\n",
    "import math\n",
    "xA = int(input(\"Ponto xA:\"))\n",
    "xB = int(input(\"Ponto xB:\"))\n",
    "yA = int(input(\"Ponto yA:\"))\n",
    "yB = int(input(\"Ponto yB:\"))\n",
    "\n",
    "dAB = math.sqrt(((xB - xA)**2)+((yB - yA)**2))\n",
    "\n",
    "print(round(dAB,2))\n",
    "\n"
   ]
  },
  {
   "cell_type": "code",
   "execution_count": 39,
   "metadata": {},
   "outputs": [
    {
     "name": "stdout",
     "output_type": "stream",
     "text": [
      "Valor do prêmio:1000000\n",
      "Aporte do 1º apostador:20\n",
      "Aporte do 2º apostador:40\n",
      "Aporte do 3º apostador:15\n",
      "O valor do premio é: 1000000.0\n",
      "O valor para cada apostador:\n",
      "1º apostador:  266666.67\n",
      "2º apostador:  533333.33\n",
      "3º apostador:  200000.0\n"
     ]
    }
   ],
   "source": [
    "'''Ex 52 - Três amigos jogaram na loteria. Caso eles ganhem, o prêmio deve ser repartido proporcionalmente ao valor que cada\n",
    "um deu para a realização da aposta. Faça um programa que leia quanto cada apostador investiu, o valor do prêmio, e imprima\n",
    "quanto cada um ganharia do prêmio com base no valor investido.'''\n",
    "premio = float(input(\"Valor do prêmio:\"))\n",
    "\n",
    "a1 = float(input(\"Aporte do 1º apostador:\"))\n",
    "a2 = float(input(\"Aporte do 2º apostador:\"))\n",
    "a3 = float(input(\"Aporte do 3º apostador:\"))\n",
    "\n",
    "\n",
    "total = a1 + a2 + a3\n",
    "\n",
    "print('O valor do premio é:' , premio)\n",
    "print(\"O valor para cada apostador:\")\n",
    "print(\"1º apostador: \", round((a1/total)*premio,2))\n",
    "print(\"2º apostador: \", round((a2/total)*premio,2))\n",
    "print(\"3º apostador: \", round((a3/total)*premio,2))"
   ]
  },
  {
   "cell_type": "code",
   "execution_count": 41,
   "metadata": {},
   "outputs": [
    {
     "name": "stdout",
     "output_type": "stream",
     "text": [
      "comprimento do terreno: 10\n",
      "largura do terreno: 20\n",
      "preço do metro da tela:2.50\n",
      "Custo para cercar o terreno:  150.0\n"
     ]
    }
   ],
   "source": [
    "'''Ex 53 - Faça um programa para ler as dimensões de um terreno (comprimento e largura), bem como o preço do metro de tela.\n",
    "Imprima o custo para cercar este mesmo terreno com tela'''\n",
    "comprimento = int(input(\"comprimento do terreno: \"))\n",
    "largura = int(input(\"largura do terreno: \"))\n",
    "\n",
    "dimensao = comprimento + largura\n",
    "\n",
    "tela = float(input(\"preço do metro da tela:\"))\n",
    "\n",
    "print(\"Custo para cercar o terreno: \", (dimensao*2)*tela)"
   ]
  },
  {
   "cell_type": "code",
   "execution_count": null,
   "metadata": {},
   "outputs": [],
   "source": []
  }
 ],
 "metadata": {
  "kernelspec": {
   "display_name": "Python 3",
   "language": "python",
   "name": "python3"
  },
  "language_info": {
   "codemirror_mode": {
    "name": "ipython",
    "version": 3
   },
   "file_extension": ".py",
   "mimetype": "text/x-python",
   "name": "python",
   "nbconvert_exporter": "python",
   "pygments_lexer": "ipython3",
   "version": "3.7.6"
  }
 },
 "nbformat": 4,
 "nbformat_minor": 4
}
