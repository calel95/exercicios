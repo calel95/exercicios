{
 "cells": [
  {
   "cell_type": "markdown",
   "metadata": {},
   "source": [
    "# Seção 6"
   ]
  },
  {
   "cell_type": "code",
   "execution_count": null,
   "metadata": {},
   "outputs": [],
   "source": [
    "# Ex 1 - Faça um programa que determine e mostre os cinco primeiros múltiplos de 3, considerando números maiores que 0.\n",
    "mult = range(3,10,3)\n",
    "for i in mult:\n",
    "    print(i)"
   ]
  },
  {
   "cell_type": "code",
   "execution_count": null,
   "metadata": {},
   "outputs": [],
   "source": [
    "# Ex 2 - Escreva um programa que escreva na tela, de 1 a 100, 3 vezes. A primeira deve usar a estrutura for, depois while\n",
    "n = range(1,101)\n",
    "cont = 0\n",
    "while cont != 3:\n",
    "    for i in n:\n",
    "        print(i)\n",
    "    cont = cont+1"
   ]
  },
  {
   "cell_type": "code",
   "execution_count": null,
   "metadata": {},
   "outputs": [],
   "source": [
    "'''Ex 3 - Faça um algoritmo utilizando o comando while que mostra uma contagem regressiva na tela, iniciando em 10 e terminando\n",
    "em 0. Mostrar uma mensagem \"FIM\" após a contagem.'''\n",
    "cont = 10\n",
    "while cont >= 0:\n",
    "    print(cont)\n",
    "    cont = cont -1\n",
    "print(\"FIM\")"
   ]
  },
  {
   "cell_type": "code",
   "execution_count": null,
   "metadata": {},
   "outputs": [],
   "source": [
    "'''Ex 4 - Escreva um programa que declare um inteiro, inicialize-o com 0, e incremente-o de 1000 em 1000, imprimindo seu valor\n",
    "na tela, até que seu valor seja 100.000'''\n",
    "contador = 0\n",
    "while contador <=100000:\n",
    "    print(contador)\n",
    "    contador = contador+1000"
   ]
  },
  {
   "cell_type": "code",
   "execution_count": null,
   "metadata": {},
   "outputs": [],
   "source": [
    "#Ex 5 - Faça um programa que peça ao usuário para digitar 10 valores e some-os.\n",
    "vez = range(1,11)\n",
    "soma = 0\n",
    "for i in vez:\n",
    "    n = int(input(f\"{i}º número:\"))\n",
    "    soma = soma + n\n",
    "print(\"SOMA: \", soma)"
   ]
  },
  {
   "cell_type": "code",
   "execution_count": null,
   "metadata": {},
   "outputs": [],
   "source": [
    "# Ex - 6 Faça um programa que leia 10 inteiros e imprima sua média.\n",
    "cont = 0\n",
    "media = 0\n",
    "while cont <10:\n",
    "    n = int(input())\n",
    "    media = media + n\n",
    "    cont = cont +1\n",
    "print(\"Média: \", media/cont)"
   ]
  },
  {
   "cell_type": "code",
   "execution_count": null,
   "metadata": {},
   "outputs": [],
   "source": [
    "# Ex 7 - Faça um programa que leia 10 inteiros positivos, ignorando não positivos, e imprima sua média\n",
    "\n",
    "cont = range(1,11)\n",
    "media = 0\n",
    "for i in cont:\n",
    "    n = int(input())\n",
    "    if n < 0:\n",
    "        n = 0\n",
    "    media = media + n\n",
    "print(\"Média:\", media/i)"
   ]
  },
  {
   "cell_type": "code",
   "execution_count": null,
   "metadata": {},
   "outputs": [],
   "source": [
    "# EX 8 - Escreva um programa que leia 10 números e escreva o menor valor lido e o maior valor lido.\n",
    "cont = 0\n",
    "maior = 0\n",
    "menor = 10000000\n",
    "while cont <10:\n",
    "    n = int(input())\n",
    "    if n > maior:\n",
    "        maior = n\n",
    "    if n < menor:\n",
    "        menor = n\n",
    "    cont = cont+1\n",
    "print(\"Maior:\", maior)\n",
    "print(\"Menor:\", menor)\n",
    "        "
   ]
  },
  {
   "cell_type": "code",
   "execution_count": null,
   "metadata": {},
   "outputs": [],
   "source": [
    "# Ex 9 - Faça um programa uqe leia um número inteiro N e depois imprima os N primeiros números naturais ímpares.\n",
    "n = int(input(\"Digite um número inteiro:\"))\n",
    "impar = range(1,n,2)\n",
    "for i in impar:\n",
    "    print(i)"
   ]
  },
  {
   "cell_type": "code",
   "execution_count": null,
   "metadata": {},
   "outputs": [],
   "source": [
    "# Ex 10 - Faça um programa que calcule e mostre a soma dos 50 primeiros números pares.\n",
    "n = range(2,101,2)\n",
    "soma = 0\n",
    "cont=0\n",
    "for i in n:\n",
    "    soma = soma + i\n",
    "    print(i)\n",
    "    cont = cont +1\n",
    "print(\"Soma: \",soma)\n",
    "print(\"Cont\", cont)"
   ]
  },
  {
   "cell_type": "code",
   "execution_count": null,
   "metadata": {},
   "outputs": [],
   "source": [
    "# Ex 11 - Faça um programa que leia um numero inteiro positivo e imrpima todos os numeros naturais de 0 ate n ordem crescente\n",
    "n = int(input(\"N: \"))\n",
    "n=n+1\n",
    "ordem = range(0,n,1)\n",
    "for i in ordem:\n",
    "    print(i)"
   ]
  },
  {
   "cell_type": "code",
   "execution_count": null,
   "metadata": {},
   "outputs": [],
   "source": [
    "# Ex 12 - Faça um programa que leia um numero inteiro positivo e imrpima todos os numeros naturais de 0 ate n ordem decrescente\n",
    "n = int(input(\"N: \"))\n",
    "ordem = range(n,-1,-1)\n",
    "for i in ordem:\n",
    "    print(i)"
   ]
  },
  {
   "cell_type": "code",
   "execution_count": null,
   "metadata": {},
   "outputs": [],
   "source": [
    "# Ex 13 - Faça um programa que leia um número inteiro positivo par e imprima todos os números pares de 0 até N ordem crescente\n",
    "N = int(input(\"N: \"))\n",
    "N=N+2\n",
    "while N%2!=0:\n",
    "    N = int(input(\"N: \"))\n",
    "    N=N+2\n",
    "ordem = range(0,N,2)\n",
    "for i in ordem:\n",
    "    print(i)"
   ]
  },
  {
   "cell_type": "code",
   "execution_count": null,
   "metadata": {},
   "outputs": [],
   "source": [
    "# Ex 14 - Faça um programa que leia um número inteiro positivo par e imprima todos os números pares de o até N ordem descrecente\n",
    "N = int(input(\"N: \"))\n",
    "while N%2!=0:\n",
    "    N = int(input(\"N: \"))\n",
    "ordem = range(N,-1,-2)\n",
    "for i in ordem:\n",
    "    print(i)"
   ]
  },
  {
   "cell_type": "code",
   "execution_count": null,
   "metadata": {},
   "outputs": [],
   "source": [
    "# Ex 15 - Faça um programa que leia um número inteiro positivo ímpar e imprima os números ímpares de 1 até N ordem crescente\n",
    "N = int(input(\"N: \"))\n",
    "N=N+2\n",
    "while N%2==0:\n",
    "    N = int(input(\"N: \"))\n",
    "    N=N+2\n",
    "ordem = range(1,N,2)\n",
    "print(\"\\n\")\n",
    "for i in ordem:\n",
    "    print(i)"
   ]
  },
  {
   "cell_type": "code",
   "execution_count": null,
   "metadata": {},
   "outputs": [],
   "source": [
    "# Ex 16 - Faça um programa que leia um número inteiro positivo ímpar e imprima os números ímpares de 1 até N ordem decrescente\n",
    "N = int(input(\"N: \"))\n",
    "while N%2==0:\n",
    "    N = int(input(\"N: \"))\n",
    "ordem = range(N,0,-2)\n",
    "print(\"\\n\")\n",
    "for i in ordem:\n",
    "    print(i)"
   ]
  },
  {
   "cell_type": "code",
   "execution_count": null,
   "metadata": {},
   "outputs": [],
   "source": [
    "# Ex 17 - Faça um programa que leia um número inteiro positivo N e calcule a soma dos N primeiros números naturais\n",
    "n = int(input(\"N: \"))\n",
    "soma = 0\n",
    "for i in range(1,n,1):\n",
    "    soma = soma +i\n",
    "    print(i)\n",
    "print(\"\\nSoma dos números:\",soma)"
   ]
  },
  {
   "cell_type": "code",
   "execution_count": null,
   "metadata": {},
   "outputs": [],
   "source": [
    "'''Ex 18 - Escreva um algoritmo que leia certa quantidade de números e imprima o maior deles e quantas vezes o maior número\n",
    "foi lido. A quantidade de números a serem lidos deve ser fornecido pelo usuário.'''\n",
    "qtd = int(input(\"Quantidade de números que deseja ler: \"))\n",
    "qtd1 = qtd\n",
    "maior = 0\n",
    "vez = 0\n",
    "cont = 1\n",
    "aleatorio = 0\n",
    "while qtd != vez:\n",
    "    vez = vez+1\n",
    "    n = int(input())\n",
    "    if n > maior:\n",
    "        maior = n\n",
    "    elif maior ==n:\n",
    "        cont = cont+1\n",
    "print(\"Maior número digitado: \",maior)\n",
    "print(\"Vezes que o maior número foi lido: \",cont)"
   ]
  },
  {
   "cell_type": "code",
   "execution_count": null,
   "metadata": {},
   "outputs": [],
   "source": [
    "# 19 - Escreva um algoritmo que leia um número inteiro de 100 a 999 e imprima cada um dos algarismos que compoem o número\n",
    "'''n = input()\n",
    "print(n[0])\n",
    "print(n[1])\n",
    "print(n[2])'''\n",
    "n = int(input(\"Número entre 100 e 999: \"))\n",
    "\n",
    "while n != 0:\n",
    "    nn = n%10\n",
    "    n=n//10\n",
    "    a = nn\n",
    "    print(a)\n"
   ]
  },
  {
   "cell_type": "code",
   "execution_count": null,
   "metadata": {},
   "outputs": [],
   "source": [
    "'''Ex 20 - Ler uma sequência de números inteiros determinar se eles são pares ou não. Deverá ser informado o número de dados \n",
    "lidos e número de valores pares. O processo termina quando for digitado o número 1000.'''\n",
    "n = 0\n",
    "cont = 0\n",
    "par = 0\n",
    "while n != 1000:\n",
    "    n = int(input())\n",
    "    if n%2==0:\n",
    "        par = par+1\n",
    "    cont = cont+1\n",
    "print(\"\\n\")\n",
    "print(par-1)\n",
    "print(cont-1)\n",
    "        "
   ]
  },
  {
   "cell_type": "code",
   "execution_count": null,
   "metadata": {},
   "outputs": [],
   "source": [
    "'''Ex 21 - Faça um programa que receba dois números. Calcule e mostre:\n",
    "- a soma dos números pares desse intervalo de números, incluindo os números digitados\n",
    "- a multiplicação dos números ímpares desse intervalo, incluindo os digitados'''\n",
    "n1 = int(input(\"n1: \"))\n",
    "n2 = int(input(\"n2: \"))\n",
    "n2=n2+1\n",
    "soma = 0\n",
    "multiplica = 1\n",
    "\n",
    "for i in range(n1,n2,1):\n",
    "    if i%2==0:\n",
    "        soma = soma +i\n",
    "        print(i)\n",
    "    else:\n",
    "        multiplica = multiplica * i\n",
    "        print(i)\n",
    "print(\"\\n\")\n",
    "print(\"Soma dos números pares: \",soma)\n",
    "print(\"Multiplicação dos números ímpares: \",multiplica)"
   ]
  },
  {
   "cell_type": "code",
   "execution_count": null,
   "metadata": {},
   "outputs": [],
   "source": [
    "'''Ex 22 - Escreva um programa completo que permite a qualquer aluno introduzir, pelo teclado, uma sequência arbitrária de notas\n",
    "(válidas no intervalo de 10 a 20) e que mostre na tela, como resultado, a correspondente média aritmética. O número de notas\n",
    "com que o aluno pretenda efetuar o cálculo não será fornecido ao programa , o qual terminará quando for introduzido um valor\n",
    "que não seja válido como nota de aprovação.'''\n",
    "media = 0\n",
    "nota = 11\n",
    "cont = 0\n",
    "soma = 0\n",
    "while nota >=10 and nota<=20:\n",
    "    nota = int(input())\n",
    "    if nota >=10 and nota<=20:\n",
    "        cont = cont+1\n",
    "        media = media + nota\n",
    "\n",
    "print(\"Média: \", media/cont)\n",
    "print(cont)"
   ]
  },
  {
   "cell_type": "code",
   "execution_count": null,
   "metadata": {},
   "outputs": [],
   "source": [
    "# Ex 23 - Faça um algoritmo que leia um número positivo e imprima seus divisores.\n",
    "numero = int(input())\n",
    "print(\"\\n\")\n",
    "for i in range(1,numero+1):\n",
    "    if numero%i==0:\n",
    "        print(i)"
   ]
  },
  {
   "cell_type": "code",
   "execution_count": null,
   "metadata": {},
   "outputs": [],
   "source": [
    "'''Ex 24 - Escreva um programa que leia um número inteiro e calcule a soma de todos os divisores desse número, com exceção\n",
    "dele próprio. Ex: a soma dos divisores de 66 é 1+2+3+6+11+22+33=66'''\n",
    "numero = int(input())\n",
    "print(\"\\n\")\n",
    "soma = 0\n",
    "for i in range(1,numero):\n",
    "    if numero%i==0:\n",
    "        print(i)\n",
    "        soma = soma+i\n",
    "print(\"Soma dos divisores:\",soma)"
   ]
  },
  {
   "cell_type": "code",
   "execution_count": null,
   "metadata": {},
   "outputs": [],
   "source": [
    "# Ex 25 - Faça um programa que some todos os números naturais abaixo de 1000 que são múltiplos de 3 e 5.\n",
    "cont = 0\n",
    "soma = 0\n",
    "while cont<100:\n",
    "    cont = cont+1\n",
    "    if cont%3==0 or cont%5==0:\n",
    "        soma = soma + cont\n",
    "        print(cont)\n",
    "print(\"Soma dos números múltiplos de 3 ou 5:\",soma)"
   ]
  },
  {
   "cell_type": "code",
   "execution_count": null,
   "metadata": {},
   "outputs": [],
   "source": [
    "# Ex 26 - Faça um algoritmo que encontre o primeiro múltiplo de 11, 13 ou 17 após um número dado.\n",
    "n = int(input())\n",
    "cont = 0\n",
    "print(\"\\n\")\n",
    "for i in range(1,n+1,1):  \n",
    "    if i%11==0:\n",
    "        print(i)   \n",
    "    elif i%13==0:\n",
    "        print(i) \n",
    "    elif i%17==0:\n",
    "        print(i)\n",
    "          "
   ]
  },
  {
   "cell_type": "code",
   "execution_count": null,
   "metadata": {},
   "outputs": [],
   "source": [
    "'''Ex 27 - Em matemática, o número harmônico designado por H(n) define-se como sendo a soma da série harmónica:\n",
    "H(n)=1/2 + 1/2 + 1/3 + 1/4...\n",
    "Faça um programa que leia um valor n inteiro e positivo e apresente o valor de H(n)'''\n",
    "n = int(input())\n",
    "SerieHarmonica = 0\n",
    "soma = 0\n",
    "for i in range(1,n+1,1):\n",
    "    SerieHarmonica =1/i\n",
    "    soma = soma + SerieHarmonica\n",
    "print(soma)"
   ]
  },
  {
   "cell_type": "code",
   "execution_count": null,
   "metadata": {},
   "outputs": [],
   "source": [
    "'''Ex 28 - Faça um programa que leia um valor N inteiro e positivo e calcule e mostre o valor E, conforme a fórmula a seguir:\n",
    "E = 1+1/1! + 1/2! + 1/3!...1/N!'''\n",
    "N = int(input())\n",
    "fatorial = 1\n",
    "soma = 0\n",
    "for i in range(1,N+1,1):\n",
    "    fatorial = fatorial*(1/i)\n",
    "    print(fatorial)\n",
    "print(\"\\n\")\n",
    "print(i)"
   ]
  },
  {
   "cell_type": "code",
   "execution_count": null,
   "metadata": {},
   "outputs": [],
   "source": [
    "\"\"\"Ex 29 - Escreva um programa para calcular o valor da Série, para 5 termos.\n",
    "S = 0+1/2 + 2/4+3/6...\"\"\"\n",
    "\n",
    "cont = 0\n",
    "for i in range(1,5+1,1):\n",
    "    cont = cont+2\n",
    "    S = i/(i*cont)\n",
    "    print(S)"
   ]
  },
  {
   "cell_type": "code",
   "execution_count": null,
   "metadata": {},
   "outputs": [],
   "source": [
    "\"\"\"Ex 30 - Faça um programa para calcular as seguintes ssequencias:\n",
    "- 1+2+3+4+5+...n\n",
    "- 1-2+3-4+5+...(2n-1)\n",
    "- 1+3+5+7+...(2n-1)\"\"\"\n"
   ]
  },
  {
   "cell_type": "code",
   "execution_count": null,
   "metadata": {},
   "outputs": [],
   "source": [
    "\"\"\"Ex 31 - Faça um programa que calcule e escreva o valor de S\n",
    "S = 1/1 + 3/2 + 5/3 + 7/4... 99/50\"\"\"\n",
    "cima = 1\n",
    "baixo = 1\n",
    "S = 0\n",
    "while cima <=99:\n",
    "    S = cima/baixo\n",
    "    cima = cima +2\n",
    "    baixo = baixo +1\n",
    "print(S)"
   ]
  },
  {
   "cell_type": "code",
   "execution_count": null,
   "metadata": {},
   "outputs": [],
   "source": [
    "\"\"\"Ex 32 - Faça um programa que simula o lançamento de dois dados, d1 e d2, n vezes, e tem como saída o número de cada dado e\n",
    "a relação entre eles(><=) de cada lançamento.\"\"\"\n",
    "vezes = int(input(\"Vezes de lançamento dos dados:\"))\n",
    "d1 = 0\n",
    "d2 = 0\n",
    "for i in range(0,vezes,1):\n",
    "    d1 = int(input(\"Dado 1:\"))\n",
    "    d2 = int(input(\"Dado 2:\"))\n",
    "    print(\"\\n\")\n",
    "    if d1>d2:\n",
    "        print(f\"DADO 1 > DADO 2:\\nResultado:\\nD1:{d1}\\nD2:{d2}\")\n",
    "    elif d2>d1:\n",
    "        print(f\"DADO 2 > DADO 1:\\nResultado\\nD1: {d2}\\nD2:{d1}\")\n",
    "    elif d1==d2:\n",
    "        print(f\"DADO 1 = DADO 2:\\nResultado:\\nD1:{d1}\\nD2:{d2}\")"
   ]
  },
  {
   "cell_type": "code",
   "execution_count": null,
   "metadata": {},
   "outputs": [],
   "source": [
    "'''Ex 33 - Dados n e dois números inteiros positivos, i e j, diferentes de 0, imprima em ordem crescente os n primeiros naturais\n",
    "que são núltiplos de i ou de j e ou de ambos.\n",
    "Ex:\n",
    "n=6, i=2 e j=3 saída deverá ser: 0,2,3,4,6,8.'''\n",
    "n = int(input(\"N Vezes: \"))\n",
    "n1 = int(input(\"Valor n1:\"))\n",
    "n2 = int(input(\"Valor n2:\"))\n",
    "if n1!=0 and n2!=0:\n",
    "    for i in range(0,n+1,1):\n",
    "        if i%n1==0:\n",
    "            print(i)\n",
    "        if i%n2==0:\n",
    "            print(i)"
   ]
  },
  {
   "cell_type": "code",
   "execution_count": null,
   "metadata": {},
   "outputs": [],
   "source": [
    "\"\"\"Ex 34 - Faça um programa que calcule o menor número divisível por cada um dos números de 1 ao 20. EX: 2520 é o menor número\n",
    "que pode ser dividido por cada um dos números de 1 a 10sem sobrar resto. MMC\"\"\"\n",
    "cont = 1\n",
    "n=1\n",
    "while cont!=0:\n",
    "    if n%2==0 and n%3==0 and n%4==0 and n%5==0 and n%6==0 and n%7==0 and n%8==0 and n%9==0 and n%10==0 and n%11==0 and n%12==0\\\n",
    "        and n%13==0 and n%14==0 and n%15==0 and n%16==0 and n%17==0 and n%18==0 and n%19==0 and n%20==0:\n",
    "        cont = 0\n",
    "    else:\n",
    "        n = n+1\n",
    "print(n)"
   ]
  },
  {
   "cell_type": "code",
   "execution_count": null,
   "metadata": {},
   "outputs": [],
   "source": [
    "'''Ex 35 - Faça um programa que some os números ímpares contidos em um intervalo definido pelo usuário. O usuário define o valor\n",
    "inicial do intervalo e o valor final deste intervalo e o programa deve somar todos os números ímpares contidos neste intervalo.\n",
    "Caso o usuário digite um intervalo inválido(começando por m valor maior que o valor final) deve ser escrito uma mensagem de\n",
    "erro na tela, \"intervalo de valores inválido\" e o programa termina. Exemplo de tela de saída:\n",
    "valor inicial:5\n",
    "valor final:10\n",
    "Soma dos ímpares neste intervalo: 21'''\n",
    "vi = int(input(\"Valor inicial: \"))\n",
    "vf = int(input(\"Valor final: \"))\n",
    "soma = 0\n",
    "if vi<vf:\n",
    "    for i in range(vi,vf,1):\n",
    "        if i%2!=0:\n",
    "            soma = soma+i\n",
    "            print(i)\n",
    "    print(\"Soma dos ímpares do intervalo: \",soma)\n",
    "else:\n",
    "    print(\"Intervalo de valores inválido.\")"
   ]
  },
  {
   "cell_type": "code",
   "execution_count": null,
   "metadata": {},
   "outputs": [],
   "source": [
    "'''Ex 36 - Faça um programa que calcule a diferença entre a soma dos quadrados dos primeiros 100 números naturais e o quadrado\n",
    "da soma. EX: A soma dos quadrados dos dez primeiros números naturais é,\n",
    "1²+2²+...10²=385\n",
    "O quadrado da soma dos dez primeiros números naturais é,\n",
    "(1+2+3...10)² = 55² = 3025\n",
    "A diferença entre a soma dos quadrados dos dez primeiros números naturais e o quadrado da soma é 3025-385=2640.'''\n",
    "s1 = range(1,101,1)\n",
    "soma1 = 0\n",
    "soma2 = 0\n",
    "for i in s1:\n",
    "    soma1 = soma1 + i**2\n",
    "    soma2 = soma2 + i\n",
    "    print(soma1)\n",
    "soma2 = soma2**2\n",
    "print(\"\\n\")\n",
    "print(soma2)\n",
    "print(f\"Diferença: {soma2} - {soma1} =\",soma2-soma1)"
   ]
  },
  {
   "cell_type": "code",
   "execution_count": null,
   "metadata": {},
   "outputs": [],
   "source": [
    "'''Ex 37 - Escreva um programa que verifique quais números entre 1000 e 9999(inclusive) possuem a propriedade seguinte: a soma \n",
    "dos dois digitos de mais baixa ordem com os dois digitos de mais alta ordem elevada ao quadrado é igual ao próprio número.\n",
    "Exemplo: Para o inteiro 3025, temos que:\n",
    "30+25=55\n",
    "55²=3025'''"
   ]
  },
  {
   "cell_type": "code",
   "execution_count": null,
   "metadata": {},
   "outputs": [],
   "source": [
    "'''Ex 38 - Faça um programa que calcule o terno pitagórico a,b,c, para o qual a+b+c = 1000. Um terno pitagórico e um conjunto\n",
    "de três números naturais, a,b,c, para a qual,\n",
    "a²+b²=c²\n",
    "Exemplo:\n",
    "3²+4²= 9+16 = 25 = 5²'''\n"
   ]
  },
  {
   "cell_type": "code",
   "execution_count": 1,
   "metadata": {},
   "outputs": [
    {
     "name": "stdout",
     "output_type": "stream",
     "text": [
      "Altura:-2\n",
      "Base:4\n",
      "-4.0\n",
      "Altura:6\n",
      "Base:4\n",
      "12.0\n"
     ]
    }
   ],
   "source": [
    "'''Ex 39 - Faça um programa que calcule a área de um triângulo, cuja base e altura são fornecidas pelo usuário. Esse programa\n",
    "não pode permitir a entrada de dados inválidos, ou seja, medidas menores ou iguais a 0.'''\n",
    "\n",
    "area = 0\n",
    "while area<=0:\n",
    "    altura = int(input(\"Altura:\"))\n",
    "    base = int(input(\"Base:\"))\n",
    "    area = (base*altura)/2\n",
    "    print(area)"
   ]
  },
  {
   "cell_type": "code",
   "execution_count": 5,
   "metadata": {},
   "outputs": [
    {
     "name": "stdout",
     "output_type": "stream",
     "text": [
      "Altura:5\n",
      "Base:5\n",
      "12.5\n"
     ]
    }
   ],
   "source": [
    "altura = float(input(\"Altura:\"))\n",
    "base = float(input(\"Base:\"))\n",
    "area = (base*altura)/2\n",
    "print(area)"
   ]
  },
  {
   "cell_type": "code",
   "execution_count": null,
   "metadata": {},
   "outputs": [],
   "source": [
    "'''Ex 40 - Elabore um programa que faça a leitura de vários números inteiros, até que seja digitado um número negativo. O\n",
    "programa tem que retornar o maior e o menor número lido.'''\n",
    "maior = 0\n",
    "menor = 9999999\n",
    "n = 0\n",
    "while n>=0:\n",
    "    n = int(input())\n",
    "    if n>maior:\n",
    "        maior = n\n",
    "    elif n<menor and n>=0:\n",
    "        menor = n\n",
    "print(\"\\n\")\n",
    "print(\"Maior: \",maior)\n",
    "print(\"Menor: \",menor)"
   ]
  },
  {
   "cell_type": "code",
   "execution_count": null,
   "metadata": {},
   "outputs": [],
   "source": [
    "'''Ex 41 - Faça um programa que calcula a associoação em paralelo de dois resistores R1 e R2 fornecidos pelo usuário\n",
    "via teclado. O programa fica pedindo estes valores e calculando até que o usuário entre com um valor para resistencia igual\n",
    "a zero.\n",
    "R=(R1*R2)/(R1+R2)'''\n",
    "R = 1\n",
    "R1=1\n",
    "R2=1\n",
    "while R!=0:\n",
    "    R1 = float(input(\"R1:\"))\n",
    "    R2 = float(input(\"R2:\"))\n",
    "    R=(R1*R2)/(R1+R2)\n",
    "    print(\"\\n\")\n",
    "    print(round(R,4))"
   ]
  },
  {
   "cell_type": "code",
   "execution_count": null,
   "metadata": {},
   "outputs": [],
   "source": [
    "'''Ex 42 - Faça um programa que leia um conjunto não determinado de valores, um de cada ez, e escreva para\n",
    "cada um dos valores lidos, o quadrado, o cubo e a raiz quadrada. Finalize a entrada de dados com um valor \n",
    "negativo ou zero.'''\n",
    "n = 1\n",
    "while n>0:\n",
    "    n = int(input())\n",
    "    print(\"Quadrado: X² = \",n**2)\n",
    "    print(\"Cubo: X³ = \",n**3)\n",
    "    print(\"Raiz quadrada: \",n**(1/2))\n",
    "print(\"\\n\")\n"
   ]
  },
  {
   "cell_type": "code",
   "execution_count": null,
   "metadata": {},
   "outputs": [],
   "source": [
    "'''Ex 43 - Faça um programa que leia um número indeterminado de idades de indivíduos (pare quando for infromada idade 0)\n",
    "e calcule a idade média desse grupo'''\n",
    "idade=1\n",
    "media = 0\n",
    "cont = 0\n",
    "while idade>0:\n",
    "    idade = int(input(f\"{cont}ª Idade: \"))\n",
    "    if idade >0:\n",
    "        media = media + idade\n",
    "        cont=cont+1\n",
    "    else:\n",
    "        pass\n",
    "print(\"Média: \",media/cont)"
   ]
  },
  {
   "cell_type": "code",
   "execution_count": null,
   "metadata": {},
   "outputs": [],
   "source": [
    "'''Ex 44 - Leia um número positivo do usuário, então calcule e imprima a sequênia Fibonacci até o primeiro número superior\n",
    "ao número lido. Exemplo: se o usuário informou o número 3, a sequência a ser impressa será 0 1 1 2 3 5 8 13 21 34.'''\n",
    "i=0\n",
    "t1=1\n",
    "total2=0\n",
    "total=1\n",
    "n = int(input())\n",
    "print(1)\n",
    "while total2<n:\n",
    "    total2=total\n",
    "    total=t1+total\n",
    "    t1=total2\n",
    "    print(total2)"
   ]
  },
  {
   "cell_type": "code",
   "execution_count": null,
   "metadata": {},
   "outputs": [],
   "source": [
    "'''Ex 45 - Faça um algoritmo que converta uma velocidade expressa em km/h para m/s e vice versa. Você deve criar um menu com \n",
    "as duas opções de conversão e com uma opção para finalizar o programa. O usuário poderá fazer quantas conversões desejar,\n",
    "sendo que o programa só será finalizado quando a opção de finalizar for escolhida.'''\n",
    "n=0\n",
    "velocidade = 0\n",
    "while n!=3:\n",
    "\n",
    "    print(\"1 - Km/h para m/s\")\n",
    "    print(\"2 - m/s para km/h\")\n",
    "    print(\"3 - sair\")\n",
    "    n = int(input())\n",
    "    \n",
    "    if n==1:\n",
    "        velocidade = float(input(\"Velocidade: \"))\n",
    "        print(\"Velocidade m/s: \", round(velocidade/3.6,4))\n",
    "    elif n==2:\n",
    "        velocidade = float(input(\"Velocidade: \"))\n",
    "        print(\"Velocidade em km/h: \", round(velocidade*3.6,4))\n",
    "        \n"
   ]
  },
  {
   "cell_type": "code",
   "execution_count": null,
   "metadata": {},
   "outputs": [],
   "source": [
    "'''Ex 46 - Faça um programa que gera um número aleatório de 1 a 1000. O usuário deve tentar acertar qual o número foi gerado,\n",
    "a cada tentativa o programa deverá informar se o chute é menor ou maior que o número gerado. O programa acaba quando o\n",
    "usuário acertar o número gerado. O programa deve informar em quantas tentativas o número foi descoberto.'''\n",
    "import random\n",
    "x = random.randrange(1,100)\n",
    "tentativa=0\n",
    "resposta=0\n",
    "print(\"Adivinhe o número que foi gerado de forma aleatória de 1 a 100:\")\n",
    "while x!=resposta:\n",
    "    resposta=int(input())\n",
    "    if resposta>x:\n",
    "        print(\"X é <\")\n",
    "    elif resposta<x:\n",
    "        print(\"X é >\")\n",
    "    tentativa = tentativa+1\n",
    "print(\"Valor de X: \", x)\n",
    "print(\"Tentativas: \",tentativa)"
   ]
  },
  {
   "cell_type": "code",
   "execution_count": null,
   "metadata": {},
   "outputs": [],
   "source": [
    "'''Ex 47 - Faça um programa que apresente um menu de opções para o cálculo das seguintes operações entre dois números:\n",
    "1 adição\n",
    "2 subtração\n",
    "3 multiplicação\n",
    "4 divisão\n",
    "5 saída'''\n",
    "op = 0\n",
    "n1=0\n",
    "n2=0\n",
    "while op!=5:\n",
    "    print(\"\\n\")\n",
    "    print(\"MENU\")\n",
    "    print(\"1 - adição\\n2 - subtração\\n3 - multiplicação\\n4 - divisão\\n5 - saída\")\n",
    "    op = int(input())\n",
    "    if op==1:\n",
    "        n1 = float(input(\"n1: \"))\n",
    "        n2 = float(input(\"n2: \"))\n",
    "        print(\"Adição: \",n1+n2)\n",
    "    elif op==2:\n",
    "        n1 = float(input(\"n1: \"))\n",
    "        n2 = float(input(\"n2: \"))\n",
    "        print(\"Subtração: \",n1-n2)\n",
    "    elif op==3:\n",
    "        n1 = float(input(\"n1: \"))\n",
    "        n2 = float(input(\"n2: \"))\n",
    "        print(\"Multiplicação: \",n1*n2)\n",
    "    elif op==4:\n",
    "        n1 = float(input(\"n1: \"))\n",
    "        n2 = float(input(\"n2: \"))\n",
    "        print(\"Adição: \",n1/n2)"
   ]
  },
  {
   "cell_type": "code",
   "execution_count": null,
   "metadata": {},
   "outputs": [],
   "source": [
    "# Ex 48 - Faça um programa que some os termos de valor par da sequência de Fibonacci, os valores não ultrapassem quatro milhões\n",
    "t1=0\n",
    "t2=0\n",
    "t3=1\n",
    "n = int(input())\n",
    "soma=0\n",
    "while t1<400000000:\n",
    "    t1=t2\n",
    "    t2=t1+t3\n",
    "    t3=t1\n",
    "    print(t1)\n",
    "    if t1%2==0:\n",
    "        soma=soma+t1\n",
    "        print(\"Soma:\",soma)\n",
    "    if soma>4000000:\n",
    "        print(\"Não pode passar de 4000000.\")\n",
    "        break\n",
    "\n",
    "        "
   ]
  },
  {
   "cell_type": "code",
   "execution_count": null,
   "metadata": {},
   "outputs": [],
   "source": [
    "'''Ex 49 - O funcionário chamado Carlos tem um colega chamado João que recebe um salário que equivale a um terço do seu salário.\n",
    "Carlos gosta de fazer aplicações na caderneta de poupança e vai aplicar seu salário integralmente nela, pois está rendendo 2% \n",
    "ao mês. João aplicará seu salário integralmente no fundo de renda fixa, que está rendendo 5% ao mês. Construa um programa que\n",
    "deverá calcular e mostrar a quantidade de meses necessários para que o valor pertencente a João iguale ou ultrapasse o valor\n",
    "pertencente a Carlos. Teste com outros valores para as taxas.'''\n",
    "Carlos = float(input(\"Capital de Carlos: \"))\n",
    "Joao = Carlos/3\n",
    "TC=0.02\n",
    "TJ=0.05\n",
    "t=0\n",
    "MC = Carlos*((1+TC)**1)\n",
    "MJ=0\n",
    "while MC>=MJ:\n",
    "    MJ = Joao*((1+TJ)**t)\n",
    "    t=t+1\n",
    "    print(MJ)\n",
    "t=t-1\n",
    "print(\"Valor pertencente a Carlos:\", MC)\n",
    "print(f\"Levara {t} meses para Joao alcançar o valor de Carlos, chegando um montante de {MJ}\")\n",
    "    \n"
   ]
  },
  {
   "cell_type": "code",
   "execution_count": null,
   "metadata": {},
   "outputs": [],
   "source": [
    "'''Ex 50 - Chico tem 1,50 metros e cresce 2 centimetros por ano, enquanto Zé tem 1,10 metros e cresce 3 centimetros por ano.\n",
    "Escreva um programa que calcule e imprima quantos anos serão necessários para que Zé seja maior que Chico.'''\n",
    "alturaC = 1.50\n",
    "alturaZ = 1.10\n",
    "soma=0\n",
    "CC=0.02\n",
    "ZC=0.03\n",
    "i=0\n",
    "while alturaZ<alturaC:\n",
    "    alturaZ = alturaZ + ZC\n",
    "    alturaC=alturaC + CC\n",
    "    i=i+1\n",
    "    print(\"Altura atual Zé:\",round(alturaZ,2))\n",
    "    print(\"Altura atual de Chico\", round(alturaC,2))\n",
    "print(f\"\\nSerá necessário {i} anos para Zé passar a altura de chico. \")"
   ]
  },
  {
   "cell_type": "code",
   "execution_count": null,
   "metadata": {},
   "outputs": [],
   "source": [
    "'''Ex 51 - Um funcionário recebe aumento anual. Em 1995 foi contratado por 2000 reais. Em 1996 reccebeu aumento de 1,5%.\n",
    "A partir de 1997, os aumentos sempre correspondem ao dobro do ano anterior. Faça um programa que determine o salário atual\n",
    "do funcionário.'''\n",
    "ano = 1996\n",
    "aumento = 0.015\n",
    "total=0\n",
    "anoatual = int(input(\"Ano atual:\"))\n",
    "while ano != anoatual:\n",
    "    total = 2000*(1+(aumento*2))\n",
    "    aumento = aumento*2\n",
    "    ano=ano+1\n",
    "print(f\"Aumento porcentual desde a contratação em 1995: {aumento*100}%\")\n",
    "print(f\"No ano {anoatual} o salário será R${total}\")"
   ]
  },
  {
   "cell_type": "code",
   "execution_count": null,
   "metadata": {},
   "outputs": [],
   "source": [
    "'''Ex 52 - Escreva um programa que receba como entrada o valor do saque realizado pelo cliente de um banco e retorne quantas\n",
    "notas de cada valor serão necessárias para atender ao saque com a menor quantidade de notas possível. Serão utilizadas notas de\n",
    "100, 50, 20, 10, 5, 2, 1 real.'''\n",
    "valor = int(input(\"Quanto deseja sacar? \"))\n",
    "\n",
    "nota100=valor//100\n",
    "r100=valor%100\n",
    "\n",
    "nota50 = r100//50\n",
    "r50 = valor%50\n",
    "\n",
    "nota20 = r50//20\n",
    "r20 = valor%20\n",
    "\n",
    "nota10 = r20//10\n",
    "r10 = valor%10\n",
    "\n",
    "nota5 = r10//5\n",
    "r5 = valor%5\n",
    "\n",
    "nota2 = r5//2\n",
    "r2 = valor%2\n",
    "\n",
    "nota1 = r2//1\n",
    "r1 = valor%1\n",
    "\n",
    "if nota100>0:\n",
    "    print(\"Notas de 100:\",nota100)\n",
    "if nota50>0:\n",
    "    print(\"Notas de 50:\",nota50)\n",
    "if nota20>0:\n",
    "    print(\"Notas de 20:\",nota20)\n",
    "if nota10>0:\n",
    "    print(\"Notas de 10:\",nota10)\n",
    "if nota5>0:\n",
    "    print(\"Notas de 5:\",nota5)\n",
    "if nota2>0:\n",
    "    print(\"Notas de 2:\",nota2)\n",
    "if nota1>0:\n",
    "    print(\"Notas de 1:\",nota1)\n",
    "    \n",
    "# DANDO ERRO"
   ]
  },
  {
   "cell_type": "code",
   "execution_count": null,
   "metadata": {},
   "outputs": [],
   "source": [
    "'''Ex 53- Escreva um programa que leia um número inteiro positivo N e em seguida imprima N linhas do chamado Triangulo de Floyd.\n",
    "Para N=6, temos:\n",
    "1\n",
    "2 3\n",
    "4 5 6\n",
    "7 8 9 10\n",
    "11 12 13 14 15\n",
    "16 17 18 19 20 21\n",
    "'''\n",
    "n=6\n",
    "c=1\n",
    "for i in range(1,n+1):\n",
    "    for j in range(0,i):\n",
    "        print(c, end=\" \")\n",
    "        c=c+1\n",
    "    print(\"\\n\")"
   ]
  },
  {
   "cell_type": "code",
   "execution_count": null,
   "metadata": {},
   "outputs": [],
   "source": [
    "# Ex 54 - Faça um programa que receba um número inteiro maior do que 1 e verifique se o número fornecido é primo ou não.\n",
    "n = int(input(\"\"))\n",
    "c=0\n",
    "for i in range(1,n+1):\n",
    "    if n%i==0:\n",
    "        c=c+1\n",
    "if c<=2:\n",
    "    print(\"Primo\")"
   ]
  },
  {
   "cell_type": "code",
   "execution_count": null,
   "metadata": {},
   "outputs": [],
   "source": [
    "# EX 55 - Escreva um programa que leia um inteiro não negativo N e imprima a soma dos N primeiros números primos.\n",
    "n = int(input(\"\"))\n",
    "total=0\n",
    "for i in range(2,n):\n",
    "    for j in range(2,i):\n",
    "        if i%j==0:\n",
    "            break\n",
    "    else:\n",
    "        print(i)\n",
    "        total=total+i\n",
    "print(\"A SOMA DOS PRIMOS:\", total)"
   ]
  },
  {
   "cell_type": "code",
   "execution_count": null,
   "metadata": {},
   "outputs": [],
   "source": [
    "# EX 56 - Faça um programa que calcule a soma de todos os números primos abaixo de dois milhôes.\n",
    "total=0\n",
    "for i in range(2,20):# ASÓ ALTERAR O VALOR PARA 2 MILHÔES\n",
    "    for j in range(2,i):\n",
    "        if i%j==0:\n",
    "            break\n",
    "    else:\n",
    "        #print(i)\n",
    "        total=total+i\n",
    "        print(i)\n",
    "print(\"A SOMA DOS PRIMOS:\", total)"
   ]
  },
  {
   "cell_type": "code",
   "execution_count": null,
   "metadata": {},
   "outputs": [],
   "source": [
    "# 57 - Faça um programa que conte quantos números primos existem entre A e B, onde A e B são dados pelo usuário.\n",
    "A = int(input(\"Valor de A:\"))\n",
    "B = int(input(\"Valor de B:\"))\n",
    "primo=0\n",
    "for i in range(A,B):# ASÓ ALTERAR O VALOR PARA 2 MILHÔES\n",
    "    for j in range(2,i):\n",
    "        if i%j==0:\n",
    "            break\n",
    "    else:\n",
    "        #print(i)\n",
    "        primo=primo+1\n",
    "        print(i)\n",
    "print(\"A QUANTIDADE DE NÙMEROS PRIMOS:\", primo)"
   ]
  },
  {
   "cell_type": "code",
   "execution_count": null,
   "metadata": {},
   "outputs": [],
   "source": [
    "# 58 - Faça um programa que some os números primos existentes entre A e B, onde A e B são npumeros informados pelo usuário.\n",
    "A = int(input(\"Valor de A:\"))\n",
    "B = int(input(\"Valor de B:\"))\n",
    "primo=0\n",
    "for i in range(A,B):# ASÓ ALTERAR O VALOR PARA 2 MILHÔES\n",
    "    for j in range(2,i):\n",
    "        if i%j==0:\n",
    "            break\n",
    "    else:\n",
    "        #print(i)\n",
    "        primo=primo+i\n",
    "        print(i)\n",
    "print(\"A QUANTIDADE DE NÙMEROS PRIMOS:\", primo)"
   ]
  },
  {
   "cell_type": "code",
   "execution_count": null,
   "metadata": {},
   "outputs": [],
   "source": [
    "'''59 - Escreva um programa que leia o número de habitantes de uma determinada cidade, o valor do kwh, e para cada habitante\n",
    "entre com os seguintes dados: consumo do mês e o código do consumidor (1-Residencial, 2-Comercial, 3-Industrial). No final\n",
    "imprima o maior, o menor e a média do consumo dos habitantes; e por fim o total do consumo de cada categoria de consumidor.'''\n",
    "cidade = input(\"Cidade:\")\n",
    "habitantes = int(input(f\"Número de Habitantes de {cidade}:\"))\n",
    "kwh = float(input(\"Valor do kwh:\"))\n",
    "consumo=0\n",
    "maior = 0\n",
    "menor = 99999\n",
    "media = 0\n",
    "R = 0\n",
    "C = 0\n",
    "I = 0\n",
    "cont=0\n",
    "while cont<habitantes:\n",
    "    cont=cont+1\n",
    "    print(\"\\nCÓDIGO DO CONSUMIDOR\\n1 - Residencial\\n2 - Comercial\\n3 - Industrial\")\n",
    "    op = int(input())\n",
    "    consumo = int(input(\"Consumo no mês: \"))\n",
    "    if consumo>maior:\n",
    "        maior = consumo\n",
    "    if consumo<menor:\n",
    "        menor = consumo\n",
    "    if op==1:\n",
    "        R=R+consumo\n",
    "    elif op==2:\n",
    "        C=C+consumo\n",
    "    elif op==3:\n",
    "        I=I+consumo\n",
    "    media=media+consumo\n",
    "print(\"Média de consumo dos habitantes: \",round(media/cont,4))\n",
    "print(f\"Maior consumo:{maior}\\nMenor consumo {menor}\")\n",
    "print(\"\\n TOTAL DO CONSUMO DE CADA CATEGORIA:\")\n",
    "print(f\"Residencial {R}\\nComercial {C}\\nIndustrial {I}\")"
   ]
  },
  {
   "cell_type": "code",
   "execution_count": 15,
   "metadata": {},
   "outputs": [
    {
     "name": "stdout",
     "output_type": "stream",
     "text": [
      "10\n",
      "20\n",
      "30\n",
      "40\n",
      "55\n",
      "0\n",
      "Soma dos números: 155.0\n",
      "Quantidade de número digitados: 5\n",
      "Média dos números: 31.0\n",
      "Maior digito: 55.0\n",
      "Menor digito: 10.0\n",
      "Média dos números pares: 20.0\n"
     ]
    }
   ],
   "source": [
    "'''Ex 60 - Faça um programa que leia vários números, calcule e mostre:\n",
    "a - A soma dos números digitados\n",
    "b - A quantidade de números digitados\n",
    "c - A média dos números digitados\n",
    "d - O maior número digitado\n",
    "e - O menor número digitado\n",
    "f - A média dos números pares\n",
    "Finalize a entrada de dados caso o usuário informe o valor 0.'''\n",
    "n=1\n",
    "maior=0\n",
    "menor=99999\n",
    "media=0\n",
    "soma=0\n",
    "qtd=0\n",
    "par=0\n",
    "while n!=0:\n",
    "    \n",
    "    \n",
    "    n = float(input())\n",
    "    if n<menor and n!=0:\n",
    "        menor=n\n",
    "    if n>maior:\n",
    "        maior=n\n",
    "    if n%2==0:\n",
    "        par=par+n\n",
    "    soma=soma+n\n",
    "    if n!=0:\n",
    "        qtd=qtd+1\n",
    "    \n",
    "print(\"Soma dos números:\", soma)\n",
    "print(\"Quantidade de número digitados:\", qtd)\n",
    "print(\"Média dos números:\", soma/qtd)\n",
    "print(\"Maior digito:\", maior)\n",
    "print(\"Menor digito:\", menor)\n",
    "print(\"Média dos números pares:\", par/qtd)"
   ]
  },
  {
   "cell_type": "code",
   "execution_count": 32,
   "metadata": {
    "scrolled": false
   },
   "outputs": [
    {
     "name": "stdout",
     "output_type": "stream",
     "text": [
      "1 * 1 = 1\n",
      "1 * 2 = 2\n",
      "1 * 3 = 3\n",
      "1 * 4 = 4\n",
      "1 * 5 = 5\n",
      "1 * 6 = 6\n",
      "1 * 7 = 7\n",
      "1 * 8 = 8\n",
      "1 * 9 = 9\n",
      "2 * 1 = 2\n",
      "2 * 2 = 4\n",
      "2 * 3 = 6\n",
      "2 * 4 = 8\n",
      "2 * 5 = 10\n",
      "2 * 6 = 12\n",
      "2 * 7 = 14\n",
      "2 * 8 = 16\n",
      "2 * 9 = 18\n",
      "3 * 1 = 3\n",
      "3 * 2 = 6\n",
      "3 * 3 = 9\n",
      "3 * 4 = 12\n",
      "3 * 5 = 15\n",
      "3 * 6 = 18\n",
      "3 * 7 = 21\n",
      "3 * 8 = 24\n",
      "3 * 9 = 27\n",
      "4 * 1 = 4\n",
      "4 * 2 = 8\n",
      "4 * 3 = 12\n",
      "4 * 4 = 16\n",
      "4 * 5 = 20\n",
      "4 * 6 = 24\n",
      "4 * 7 = 28\n",
      "4 * 8 = 32\n",
      "4 * 9 = 36\n",
      "5 * 1 = 5\n",
      "5 * 2 = 10\n",
      "5 * 3 = 15\n",
      "5 * 4 = 20\n",
      "5 * 5 = 25\n",
      "5 * 6 = 30\n",
      "5 * 7 = 35\n",
      "5 * 8 = 40\n",
      "5 * 9 = 45\n",
      "6 * 1 = 6\n",
      "6 * 2 = 12\n",
      "6 * 3 = 18\n",
      "6 * 4 = 24\n",
      "6 * 5 = 30\n",
      "6 * 6 = 36\n",
      "6 * 7 = 42\n",
      "6 * 8 = 48\n",
      "6 * 9 = 54\n",
      "7 * 1 = 7\n",
      "7 * 2 = 14\n",
      "7 * 3 = 21\n",
      "7 * 4 = 28\n",
      "7 * 5 = 35\n",
      "7 * 6 = 42\n",
      "7 * 7 = 49\n",
      "7 * 8 = 56\n",
      "7 * 9 = 63\n",
      "8 * 1 = 8\n",
      "8 * 2 = 16\n",
      "8 * 3 = 24\n",
      "8 * 4 = 32\n",
      "8 * 5 = 40\n",
      "8 * 6 = 48\n",
      "8 * 7 = 56\n",
      "8 * 8 = 64\n",
      "8 * 9 = 72\n",
      "9 * 1 = 9\n",
      "9 * 2 = 18\n",
      "9 * 3 = 27\n",
      "9 * 4 = 36\n",
      "9 * 5 = 45\n",
      "9 * 6 = 54\n",
      "9 * 7 = 63\n",
      "9 * 8 = 72\n",
      "9 * 9 = 81\n"
     ]
    }
   ],
   "source": [
    "'''Ex 61 - Faça um programa que calcule o maior número palíndromo feito a partir do produto de dois números de 3 digitos.\n",
    "Ex: O maior palíndromo feito a partir do produto de dois números de dois digitos é 9009 = 91*99.'''\n",
    "total=0\n",
    "invert=0\n",
    "for i in range(999,100):\n",
    "    for j in range(999,100):\n",
    "        total = i*j\n",
    "        print(f\"{i} * {j} = {total}\")\n",
    "    if total==invert:"
   ]
  },
  {
   "cell_type": "code",
   "execution_count": 33,
   "metadata": {},
   "outputs": [
    {
     "name": "stdout",
     "output_type": "stream",
     "text": [
      "O maior palíndromo encontrado foi 906609\n"
     ]
    }
   ],
   "source": [
    "from itertools import product\n",
    "\n",
    "palindromes = (i*j for i, j in product(range(100, 1000), repeat=2) if str(i*j) == str(i*j)[::-1])\n",
    "\n",
    "print(\"O maior palíndromo encontrado foi\", max(palindromes))"
   ]
  },
  {
   "cell_type": "code",
   "execution_count": 34,
   "metadata": {},
   "outputs": [
    {
     "name": "stdout",
     "output_type": "stream",
     "text": [
      "906609\n"
     ]
    }
   ],
   "source": [
    "i = 0\n",
    "j = 0\n",
    "pol = 0\n",
    "while i <= 999:\n",
    "    j = i\n",
    "    while j <= 999:\n",
    "        temp = str(i * j)\n",
    "        tempInverso = temp[::-1]\n",
    "        if temp == tempInverso:\n",
    "            polTemp = int(temp)\n",
    "            if polTemp > pol:\n",
    "                pol = polTemp\n",
    "        j += 1\n",
    "    i += 1\n",
    "print(pol)"
   ]
  },
  {
   "cell_type": "code",
   "execution_count": null,
   "metadata": {},
   "outputs": [],
   "source": []
  }
 ],
 "metadata": {
  "kernelspec": {
   "display_name": "Python 3",
   "language": "python",
   "name": "python3"
  },
  "language_info": {
   "codemirror_mode": {
    "name": "ipython",
    "version": 3
   },
   "file_extension": ".py",
   "mimetype": "text/x-python",
   "name": "python",
   "nbconvert_exporter": "python",
   "pygments_lexer": "ipython3",
   "version": "3.7.6"
  }
 },
 "nbformat": 4,
 "nbformat_minor": 4
}
